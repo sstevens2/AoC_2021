{
 "cells": [
  {
   "cell_type": "code",
   "execution_count": 1,
   "id": "beautiful-peeing",
   "metadata": {},
   "outputs": [],
   "source": [
    "# Sarah Stevens\n",
    "# Advent of Code 2021\n",
    "# Day 7"
   ]
  },
  {
   "cell_type": "code",
   "execution_count": 2,
   "id": "interior-police",
   "metadata": {},
   "outputs": [],
   "source": [
    "with open(\"../input/07-input.txt\", \"r\") as f:\n",
    "    start_locs = [int(x) for x in f.read().split(\",\")]"
   ]
  },
  {
   "cell_type": "code",
   "execution_count": 3,
   "id": "cordless-resort",
   "metadata": {},
   "outputs": [],
   "source": [
    "def fuel_to_move(end_pos, starting_poitions):\n",
    "    total_fuel = 0\n",
    "    for start_pos in starting_poitions:\n",
    "        total_fuel += abs(start_pos - end_pos)\n",
    "    return total_fuel"
   ]
  },
  {
   "cell_type": "code",
   "execution_count": 4,
   "id": "extreme-tunnel",
   "metadata": {},
   "outputs": [
    {
     "data": {
      "text/plain": [
       "37"
      ]
     },
     "execution_count": 4,
     "metadata": {},
     "output_type": "execute_result"
    }
   ],
   "source": [
    "# test block\n",
    "test = [int(x) for x in \"16,1,2,0,4,2,7,1,2,14\".split(',')]\n",
    "fuel_to_move(2, test)"
   ]
  },
  {
   "cell_type": "code",
   "execution_count": 5,
   "id": "regional-acoustic",
   "metadata": {},
   "outputs": [
    {
     "name": "stdout",
     "output_type": "stream",
     "text": [
      "best loc: 363\n",
      "fuel spent: 341534\n"
     ]
    }
   ],
   "source": [
    "min_fuel = 100000000\n",
    "best_loc = 0\n",
    "for position in start_locs:\n",
    "    loc_fuel = fuel_to_move(position, start_locs)\n",
    "    if loc_fuel < min_fuel:\n",
    "        min_fuel = loc_fuel\n",
    "        best_loc = position\n",
    "print(\"best loc:\", best_loc)\n",
    "print(\"fuel spent:\", min_fuel) # answer 1"
   ]
  },
  {
   "cell_type": "code",
   "execution_count": 6,
   "id": "exact-empire",
   "metadata": {},
   "outputs": [],
   "source": [
    "# part 2\n",
    "def fuel_to_move2(end_pos, starting_poitions):\n",
    "    total_fuel = 0\n",
    "    for start_pos in starting_poitions:\n",
    "        diff = abs(start_pos - end_pos)\n",
    "        total_fuel = total_fuel + ((diff / 2)*(1 + diff))\n",
    "    return total_fuel"
   ]
  },
  {
   "cell_type": "code",
   "execution_count": 7,
   "id": "nutritional-steps",
   "metadata": {},
   "outputs": [
    {
     "data": {
      "text/plain": [
       "206.0"
      ]
     },
     "execution_count": 7,
     "metadata": {},
     "output_type": "execute_result"
    }
   ],
   "source": [
    "# test block 2\n",
    "test = [int(x) for x in \"16,1,2,0,4,2,7,1,2,14\".split(',')]\n",
    "fuel_to_move2(2, test)"
   ]
  },
  {
   "cell_type": "code",
   "execution_count": 8,
   "id": "headed-interface",
   "metadata": {},
   "outputs": [
    {
     "name": "stdout",
     "output_type": "stream",
     "text": [
      "best loc: 484\n",
      "fuel spent: 93397632.0\n"
     ]
    }
   ],
   "source": [
    "min_fuel = 1000000000\n",
    "best_loc = 0\n",
    "for position in range(0, max(start_locs)): # got lucky that the first answer was a starting position\n",
    "    loc_fuel = fuel_to_move2(position, start_locs)\n",
    "    if loc_fuel < min_fuel:\n",
    "        min_fuel = loc_fuel\n",
    "        best_loc = position\n",
    "    #print(min_fuel, loc_fuel)\n",
    "print(\"best loc:\", best_loc)\n",
    "print(\"fuel spent:\", min_fuel) # answer 2"
   ]
  },
  {
   "cell_type": "code",
   "execution_count": null,
   "id": "environmental-evolution",
   "metadata": {},
   "outputs": [],
   "source": []
  }
 ],
 "metadata": {
  "kernelspec": {
   "display_name": "Python 3",
   "language": "python",
   "name": "python3"
  },
  "language_info": {
   "codemirror_mode": {
    "name": "ipython",
    "version": 3
   },
   "file_extension": ".py",
   "mimetype": "text/x-python",
   "name": "python",
   "nbconvert_exporter": "python",
   "pygments_lexer": "ipython3",
   "version": "3.8.8"
  }
 },
 "nbformat": 4,
 "nbformat_minor": 5
}
