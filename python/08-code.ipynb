{
 "cells": [
  {
   "cell_type": "markdown",
   "id": "arbitrary-saudi",
   "metadata": {},
   "source": [
    "## Sarah Stevens\n",
    "## Advent of Code 2021\n",
    "## Day 8\n",
    "\n",
    "Full puzzle can be found [here](https://adventofcode.com/2021/day/8)\n",
    "\n"
   ]
  },
  {
   "cell_type": "markdown",
   "id": "moderate-small",
   "metadata": {},
   "source": [
    "### Part 1"
   ]
  },
  {
   "cell_type": "code",
   "execution_count": 1,
   "id": "celtic-plymouth",
   "metadata": {},
   "outputs": [],
   "source": [
    "# 0 = 6, 1 = 2, 2 = 5, 3 = 5, 4 = 4, 5 = 5, 6 = 6, 7 = 3, 8 = 7, 9 = 6\n",
    "# Unique by number of line segements - 1 = 2, 4 = 4, 7 = 3, 8 = 7\n",
    "# 0 = abcefg, 1 = cf, 2 = acdef, 3 = acdfg, 4 = bcdf, 5 = abdfg, 6 = abdefg, 7 = acf, 8 = abcdefg, 9 = abcdfg"
   ]
  },
  {
   "cell_type": "code",
   "execution_count": 2,
   "id": "premier-seeker",
   "metadata": {},
   "outputs": [],
   "source": [
    "def decode_simple_observation(obs):\n",
    "    if len(obs) == 2:\n",
    "        return 1\n",
    "    elif len(obs) == 4:\n",
    "        return 4\n",
    "    elif len(obs) == 3:\n",
    "        return 7\n",
    "    elif len(obs) == 7:\n",
    "        return 8\n",
    "    else:\n",
    "        return None\n",
    "\n",
    "def decode_observations(all_obs):\n",
    "    decode_dict = dict()\n",
    "    for ind_obs in all_obs:\n",
    "        ind_obs = ''.join(sorted(ind_obs))\n",
    "        decode_dict[ind_obs] = decode_simple_observation(ind_obs)\n",
    "    return decode_dict\n",
    "\n",
    "def decode_output(obs, output):\n",
    "    lookup = decode_observations(obs)\n",
    "    decoded_output = list()\n",
    "    for signal in output:\n",
    "        signal = ''.join(sorted(signal))\n",
    "        decoded_output.append(lookup[signal])\n",
    "    return decoded_output\n"
   ]
  },
  {
   "cell_type": "code",
   "execution_count": 3,
   "id": "structured-wheel",
   "metadata": {},
   "outputs": [
    {
     "name": "stdout",
     "output_type": "stream",
     "text": [
      "[8, None, None, 4]\n"
     ]
    }
   ],
   "source": [
    "# test block\n",
    "with open('../input/08-test.txt', 'r') as test_file:\n",
    "    test_obs_signals = list()\n",
    "    for line in test_file.readlines():\n",
    "        test_uniq_signals, test_output_vals = line.rstrip().split('|')\n",
    "        test_obs_signals.append((test_uniq_signals.split(), test_output_vals.split()))\n",
    "\n",
    "#print(test_obs_signals[0][0], test_obs_signals[0][1])\n",
    "test_dict = decode_observations(test_obs_signals[0][0])\n",
    "#print(test_dict)\n",
    "print(decode_output(test_obs_signals[0][0], test_obs_signals[0][1]))"
   ]
  },
  {
   "cell_type": "code",
   "execution_count": 4,
   "id": "incoming-easter",
   "metadata": {},
   "outputs": [],
   "source": [
    "# reading in actual input data\n",
    "with open('../input/08-input.txt', 'r') as f:\n",
    "    obs_signals = list()\n",
    "    for line in f.readlines():\n",
    "        uniq_signals, output_values = line.rstrip().split('|')\n",
    "        obs_signals.append((uniq_signals.split(), output_values.split()))"
   ]
  },
  {
   "cell_type": "code",
   "execution_count": 5,
   "id": "latest-disclaimer",
   "metadata": {},
   "outputs": [
    {
     "data": {
      "text/plain": [
       "488"
      ]
     },
     "execution_count": 5,
     "metadata": {},
     "output_type": "execute_result"
    }
   ],
   "source": [
    "all_output = list()\n",
    "for observation, signal in obs_signals:\n",
    "    all_output += decode_output(observation, signal)\n",
    "\n",
    "len([x for x in all_output if x != None]) #answer 1"
   ]
  },
  {
   "cell_type": "markdown",
   "id": "lasting-eagle",
   "metadata": {},
   "source": [
    "### Part 2"
   ]
  },
  {
   "cell_type": "code",
   "execution_count": 6,
   "id": "intense-parker",
   "metadata": {},
   "outputs": [],
   "source": [
    "from collections import Counter\n",
    "\n",
    "def decode_complex_observations(all_obs):\n",
    "    decode_dict = decode_observations(all_obs)\n",
    "    b_decode_dict = dict([(value, key) for key, value in decode_dict.items()])\n",
    "    remaining_obs = [key for key,value in decode_dict.items() if value == None]\n",
    "    obs5 = [x for x in remaining_obs if len(x) == 5]\n",
    "    obs6 = [x for x in remaining_obs if len(x) == 6]\n",
    "    for ind_obs in obs5: # labeling the letters with 5 segs (need to find 3 to find 9)\n",
    "        ind_obs_count = Counter(ind_obs)\n",
    "        count_4 = Counter(b_decode_dict[4])\n",
    "        both_count = len(ind_obs_count & count_4) # finding the number of seg in common with 4\n",
    "        if all(x in ind_obs for x in b_decode_dict[1]):\n",
    "            decode_dict[ind_obs] = 3\n",
    "            b_decode_dict[3] = ind_obs\n",
    "        elif both_count == 3:\n",
    "            decode_dict[ind_obs] = 5\n",
    "        elif both_count == 2:\n",
    "            decode_dict[ind_obs] = 2\n",
    "        else:\n",
    "            print(\"Something is wrong\", ind_obs, both_count)\n",
    "            exit()\n",
    "    for ind_obs in obs6:\n",
    "        if all(x in ind_obs for x in b_decode_dict[3]):\n",
    "            decode_dict[ind_obs] = 9\n",
    "        elif all(x in ind_obs for x in b_decode_dict[7]):\n",
    "            decode_dict[ind_obs] = 0\n",
    "        else:\n",
    "            decode_dict[ind_obs] = 6\n",
    "    return decode_dict\n",
    "\n",
    "def decode_output2(obs, output):\n",
    "    lookup = decode_complex_observations(obs)\n",
    "    decoded_output = list()\n",
    "    for signal in output:\n",
    "        signal = ''.join(sorted(signal))\n",
    "        decoded_output.append(lookup[signal])\n",
    "    return decoded_output\n"
   ]
  },
  {
   "cell_type": "code",
   "execution_count": 7,
   "id": "weighted-standard",
   "metadata": {},
   "outputs": [
    {
     "data": {
      "text/plain": [
       "[5, 3, 5, 3]"
      ]
     },
     "execution_count": 7,
     "metadata": {},
     "output_type": "execute_result"
    }
   ],
   "source": [
    "# test_block\n",
    "test_uniq_signals, test_output_values = \"acedgfb cdfbe gcdfa fbcad dab cefabd cdfgeb eafb cagedb ab | cdfeb fcadb cdfeb cdbaf\".rstrip().split('|')\n",
    "test_uniq_signals, test_output_values = test_uniq_signals.split(), test_output_values.split()\n",
    "#print(test_uniq_signals)\n",
    "#print(decode_complex_observations(test_uniq_signals))\n",
    "\n",
    "#all_output = list()\n",
    "#for observation, signal in obs_signals:\n",
    "#    all_output += decode_output(observation, signal)\n",
    "decode_output2(test_uniq_signals, test_output_values)"
   ]
  },
  {
   "cell_type": "code",
   "execution_count": 8,
   "id": "conscious-postcard",
   "metadata": {},
   "outputs": [
    {
     "data": {
      "text/plain": [
       "1040429"
      ]
     },
     "execution_count": 8,
     "metadata": {},
     "output_type": "execute_result"
    }
   ],
   "source": [
    "all_output = list()\n",
    "for observation, signal in obs_signals:\n",
    "    decoded_output = decode_output2(observation, signal)\n",
    "    final_out = int(''.join([str(x) for x in decoded_output]))\n",
    "    all_output.append(final_out)\n",
    "sum(all_output) # answer 2"
   ]
  },
  {
   "cell_type": "markdown",
   "id": "great-trance",
   "metadata": {},
   "source": [
    "Note: I accidently got the wrong answer on my first try because I added all the indivdual numbers intead of the 4 digit output signals"
   ]
  },
  {
   "cell_type": "code",
   "execution_count": null,
   "id": "efficient-skiing",
   "metadata": {},
   "outputs": [],
   "source": []
  }
 ],
 "metadata": {
  "kernelspec": {
   "display_name": "Python 3",
   "language": "python",
   "name": "python3"
  },
  "language_info": {
   "codemirror_mode": {
    "name": "ipython",
    "version": 3
   },
   "file_extension": ".py",
   "mimetype": "text/x-python",
   "name": "python",
   "nbconvert_exporter": "python",
   "pygments_lexer": "ipython3",
   "version": "3.8.8"
  }
 },
 "nbformat": 4,
 "nbformat_minor": 5
}
