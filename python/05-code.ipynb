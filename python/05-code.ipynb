{
 "cells": [
  {
   "cell_type": "code",
   "execution_count": 78,
   "id": "united-neutral",
   "metadata": {},
   "outputs": [],
   "source": [
    "import numpy as np # didn't end up using np though I flipped x and y in case I needed to\n",
    "from collections import Counter"
   ]
  },
  {
   "cell_type": "code",
   "execution_count": 72,
   "id": "bulgarian-washington",
   "metadata": {},
   "outputs": [],
   "source": [
    "def translate_line(instruction):\n",
    "    start, arrow, stop = instruction.split()\n",
    "    x1, y1 = [int(num) for num in start.split(',')]\n",
    "    x2, y2 = [int(num) for num in stop.split(',')]\n",
    "    return ((y1, x1), (y2, x2))\n",
    "\n",
    "def find_line_coords(line_points):\n",
    "    start, stop = line_points\n",
    "    y1, x1 = start\n",
    "    y2, x2 = stop\n",
    "    coords = []\n",
    "    if x1 == x2:\n",
    "        miny = min(y1, y2)\n",
    "        maxy = max(y1, y2)\n",
    "        for y in range(miny, maxy+1):\n",
    "            coords.append((y, x1))\n",
    "    elif y1 == y2:\n",
    "        minx = min(x1, x2)\n",
    "        maxx = max(x1, x2)\n",
    "        for x in range(minx, maxx+1):\n",
    "            coords.append((y1, x))\n",
    "    else:\n",
    "        return None\n",
    "    return coords\n",
    "\n",
    "def get_all_coords(lines):\n",
    "    all_coords = []\n",
    "    for eachline in lines:\n",
    "        line_coords = find_line_coords(eachline)\n",
    "        if line_coords != None:\n",
    "            all_coords += line_coords\n",
    "    return all_coords\n",
    "\n",
    "def find_dangerous_points(line_coords):\n",
    "    coord_count = Counter(line_coords)\n",
    "    return [coord for coord,count in coord_count.items() if count >= 2]"
   ]
  },
  {
   "cell_type": "code",
   "execution_count": 73,
   "id": "early-spirituality",
   "metadata": {},
   "outputs": [
    {
     "data": {
      "text/plain": [
       "5"
      ]
     },
     "execution_count": 73,
     "metadata": {},
     "output_type": "execute_result"
    }
   ],
   "source": [
    "# test block\n",
    "test_lines = \"0,9 -> 5,9\\n8,0 -> 0,8\\n9,4 -> 3,4\\n2,2 -> 2,1\\n7,0 -> 7,4\\n6,4 -> 2,0\\n0,9 -> 2,9\\n3,4 -> 1,4\\n0,0 -> 8,8\\n5,5 -> 8,2\"\n",
    "new_lines = [translate_line(line) for line in test_lines.split('\\n')]\n",
    "#print(new_lines)\n",
    "all_test_coords = get_all_coords(new_lines)\n",
    "#print(all_test_coords)\n",
    "#coord_count = Counter(all_test_coords)\n",
    "#print(coord_count)\n",
    "dangerous_points = find_dangerous_points(all_test_coords)\n",
    "len(dangerous_points)"
   ]
  },
  {
   "cell_type": "code",
   "execution_count": 75,
   "id": "republican-mississippi",
   "metadata": {},
   "outputs": [],
   "source": [
    "with open(\"../input/05-input.txt\", \"r\") as f:\n",
    "    line_map = [translate_line(line) for line in f.readlines()]\n",
    "vent_coords = get_all_coords(line_map)\n",
    "dangerous_coords = find_dangerous_points(vent_coords)"
   ]
  },
  {
   "cell_type": "code",
   "execution_count": 76,
   "id": "received-cooler",
   "metadata": {},
   "outputs": [
    {
     "data": {
      "text/plain": [
       "5169"
      ]
     },
     "execution_count": 76,
     "metadata": {},
     "output_type": "execute_result"
    }
   ],
   "source": [
    "#answer - pt1\n",
    "len(dangerous_coords)"
   ]
  },
  {
   "cell_type": "code",
   "execution_count": 77,
   "id": "assumed-hydrogen",
   "metadata": {},
   "outputs": [],
   "source": [
    "# Part 2"
   ]
  },
  {
   "cell_type": "code",
   "execution_count": 91,
   "id": "absent-haiti",
   "metadata": {},
   "outputs": [],
   "source": [
    "def find_line_coords2(line_points):\n",
    "    start, stop = line_points\n",
    "    y1, x1 = start\n",
    "    y2, x2 = stop\n",
    "    coords = []\n",
    "    if x1 == x2:\n",
    "        miny = min(y1, y2)\n",
    "        maxy = max(y1, y2)\n",
    "        for y in range(miny, maxy+1):\n",
    "            coords.append((y, x1))\n",
    "    elif y1 == y2:\n",
    "        minx = min(x1, x2)\n",
    "        maxx = max(x1, x2)\n",
    "        for x in range(minx, maxx+1):\n",
    "            coords.append((y1, x))\n",
    "    elif (abs(x1-x2) == abs(y1-y2)):\n",
    "        for step in range(0, abs(x1-x2)+1):\n",
    "            if (x2 > x1) and (y2 > y1):\n",
    "                coords.append((y1+step, x1+step))\n",
    "            elif (x2 > x1) and (y2 < y1):\n",
    "                coords.append((y1-step, x1+step))\n",
    "            elif (x2 < x1) and (y2 > y1):\n",
    "                coords.append((y1+step, x1-step))\n",
    "            elif (x2 < x1) and (y2 < y1):\n",
    "                coords.append((y1-step, x1-step))\n",
    "            else:\n",
    "                print(\"invalid coords\", (x1, y1), (x2, y2))\n",
    "                \n",
    "    else:\n",
    "        return None\n",
    "    return coords\n",
    "\n",
    "def get_all_coords2(lines):\n",
    "    all_coords = []\n",
    "    for eachline in lines:\n",
    "        line_coords = find_line_coords2(eachline)\n",
    "        if line_coords != None:\n",
    "            all_coords += line_coords\n",
    "    return all_coords"
   ]
  },
  {
   "cell_type": "code",
   "execution_count": 92,
   "id": "analyzed-mention",
   "metadata": {},
   "outputs": [
    {
     "name": "stdout",
     "output_type": "stream",
     "text": [
      "Counter({(4, 4): 3, (4, 6): 3, (9, 0): 2, (9, 1): 2, (9, 2): 2, (1, 7): 2, (3, 5): 2, (4, 3): 2, (4, 7): 2, (2, 2): 2, (3, 7): 2, (5, 5): 2, (9, 3): 1, (9, 4): 1, (9, 5): 1, (0, 8): 1, (2, 6): 1, (5, 3): 1, (6, 2): 1, (7, 1): 1, (8, 0): 1, (4, 5): 1, (4, 8): 1, (4, 9): 1, (1, 2): 1, (0, 7): 1, (2, 7): 1, (2, 4): 1, (1, 3): 1, (0, 2): 1, (4, 1): 1, (4, 2): 1, (0, 0): 1, (1, 1): 1, (3, 3): 1, (6, 6): 1, (7, 7): 1, (8, 8): 1, (2, 8): 1})\n"
     ]
    },
    {
     "data": {
      "text/plain": [
       "12"
      ]
     },
     "execution_count": 92,
     "metadata": {},
     "output_type": "execute_result"
    }
   ],
   "source": [
    "all_test_coords = get_all_coords2(new_lines)\n",
    "#print(all_test_coords)\n",
    "coord_count = Counter(all_test_coords)\n",
    "print(coord_count)\n",
    "dangerous_points = find_dangerous_points(all_test_coords)\n",
    "len(dangerous_points)"
   ]
  },
  {
   "cell_type": "code",
   "execution_count": 93,
   "id": "covered-globe",
   "metadata": {},
   "outputs": [
    {
     "data": {
      "text/plain": [
       "22083"
      ]
     },
     "execution_count": 93,
     "metadata": {},
     "output_type": "execute_result"
    }
   ],
   "source": [
    "vent_coords = get_all_coords2(line_map)\n",
    "dangerous_coords = find_dangerous_points(vent_coords)\n",
    "#answer - pt2\n",
    "len(dangerous_coords)"
   ]
  },
  {
   "cell_type": "code",
   "execution_count": null,
   "id": "hairy-richmond",
   "metadata": {},
   "outputs": [],
   "source": []
  }
 ],
 "metadata": {
  "kernelspec": {
   "display_name": "Python 3",
   "language": "python",
   "name": "python3"
  },
  "language_info": {
   "codemirror_mode": {
    "name": "ipython",
    "version": 3
   },
   "file_extension": ".py",
   "mimetype": "text/x-python",
   "name": "python",
   "nbconvert_exporter": "python",
   "pygments_lexer": "ipython3",
   "version": "3.8.8"
  }
 },
 "nbformat": 4,
 "nbformat_minor": 5
}
