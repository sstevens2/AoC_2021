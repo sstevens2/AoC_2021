{
 "cells": [
  {
   "cell_type": "code",
   "execution_count": 1,
   "id": "random-twist",
   "metadata": {},
   "outputs": [],
   "source": [
    "# AoC 2021\n",
    "# Sarah Stevens\n",
    "# Day 1"
   ]
  },
  {
   "cell_type": "code",
   "execution_count": null,
   "id": "senior-navigation",
   "metadata": {},
   "outputs": [],
   "source": [
    "# Part 1"
   ]
  },
  {
   "cell_type": "code",
   "execution_count": 9,
   "id": "pharmaceutical-pillow",
   "metadata": {},
   "outputs": [],
   "source": [
    "def move_sub(pos, step):\n",
    "    direction, change = step.split(\" \")\n",
    "    change = int(change)\n",
    "    if direction == \"forward\":\n",
    "        pos[0] += change\n",
    "    elif direction == \"up\":\n",
    "        pos[1] = pos[1] - change\n",
    "    elif direction == \"down\":\n",
    "        pos[1] += change\n",
    "    else:\n",
    "        print(\"invalid direction:\", step)\n",
    "        exit(2)\n",
    "    return pos"
   ]
  },
  {
   "cell_type": "code",
   "execution_count": 61,
   "id": "widespread-definition",
   "metadata": {},
   "outputs": [
    {
     "data": {
      "text/plain": [
       "[1857, 894]"
      ]
     },
     "execution_count": 61,
     "metadata": {},
     "output_type": "execute_result"
    }
   ],
   "source": [
    "# position = [horizontal, vertical/depth]\n",
    "position = [0, 0]\n",
    "position_history = [tuple(position)]\n",
    "with open('../input/02-input.txt') as f:\n",
    "    for line in f:\n",
    "        position = move_sub(position, line)\n",
    "        position_history.append(tuple(position))\n",
    "        # print(line, position)\n",
    "position"
   ]
  },
  {
   "cell_type": "code",
   "execution_count": 62,
   "id": "supreme-edgar",
   "metadata": {},
   "outputs": [
    {
     "data": {
      "text/plain": [
       "1660158"
      ]
     },
     "execution_count": 62,
     "metadata": {},
     "output_type": "execute_result"
    }
   ],
   "source": [
    "# answer 1\n",
    "position[0] * position[1]"
   ]
  },
  {
   "cell_type": "code",
   "execution_count": null,
   "id": "surprised-government",
   "metadata": {},
   "outputs": [],
   "source": [
    "# Part 2"
   ]
  },
  {
   "cell_type": "code",
   "execution_count": 64,
   "id": "intermediate-blank",
   "metadata": {},
   "outputs": [],
   "source": [
    "def move_sub2(pos, step):\n",
    "    direction, change = step.split(\" \")\n",
    "    change = int(change)\n",
    "    if direction == \"forward\":\n",
    "        pos[0] += change\n",
    "        pos[1] = pos[1] + pos[2]*change\n",
    "    elif direction == \"up\":\n",
    "        pos[2] = pos[2] - change\n",
    "    elif direction == \"down\":\n",
    "        pos[2] += change\n",
    "    else:\n",
    "        print(\"invalid direction:\", step)\n",
    "        exit(2)\n",
    "    return pos"
   ]
  },
  {
   "cell_type": "code",
   "execution_count": 68,
   "id": "ahead-legislation",
   "metadata": {},
   "outputs": [
    {
     "data": {
      "text/plain": [
       "[1857, 864078, 894]"
      ]
     },
     "execution_count": 68,
     "metadata": {},
     "output_type": "execute_result"
    }
   ],
   "source": [
    "# position = [horizontal, vertical/depth, aim]\n",
    "position = [0, 0, 0]\n",
    "position_history = [tuple(position)]\n",
    "with open('../input/02-input.txt') as f:\n",
    "    for line in f:\n",
    "        position = move_sub2(position, line)\n",
    "        position_history.append(tuple(position))\n",
    "        # print(line, position)\n",
    "position"
   ]
  },
  {
   "cell_type": "code",
   "execution_count": 69,
   "id": "established-curtis",
   "metadata": {},
   "outputs": [
    {
     "data": {
      "text/plain": [
       "1604592846"
      ]
     },
     "execution_count": 69,
     "metadata": {},
     "output_type": "execute_result"
    }
   ],
   "source": [
    "# answer\n",
    "position[0] * position[1]"
   ]
  },
  {
   "cell_type": "code",
   "execution_count": null,
   "id": "characteristic-suicide",
   "metadata": {},
   "outputs": [],
   "source": []
  }
 ],
 "metadata": {
  "kernelspec": {
   "display_name": "Python 3",
   "language": "python",
   "name": "python3"
  },
  "language_info": {
   "codemirror_mode": {
    "name": "ipython",
    "version": 3
   },
   "file_extension": ".py",
   "mimetype": "text/x-python",
   "name": "python",
   "nbconvert_exporter": "python",
   "pygments_lexer": "ipython3",
   "version": "3.8.8"
  }
 },
 "nbformat": 4,
 "nbformat_minor": 5
}
