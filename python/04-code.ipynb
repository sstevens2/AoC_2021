{
 "cells": [
  {
   "cell_type": "code",
   "execution_count": 6,
   "id": "appreciated-tactics",
   "metadata": {},
   "outputs": [],
   "source": [
    "import pandas as pd # not sure I'll use it but just in case\n",
    "import numpy as np"
   ]
  },
  {
   "cell_type": "code",
   "execution_count": null,
   "id": "characteristic-australia",
   "metadata": {},
   "outputs": [],
   "source": []
  },
  {
   "cell_type": "code",
   "execution_count": 31,
   "id": "prospective-delaware",
   "metadata": {},
   "outputs": [
    {
     "name": "stdout",
     "output_type": "stream",
     "text": [
      "[[25 29 78 57 69]\n",
      " [47 51  7 21 82]\n",
      " [61 81 99 53 30]\n",
      " [50 80 41 94 46]\n",
      " [ 9 37 48 71 91]]\n"
     ]
    },
    {
     "data": {
      "text/plain": [
       "[63, 23, 2, 65, 55, 94, 38, 20]"
      ]
     },
     "execution_count": 31,
     "metadata": {},
     "output_type": "execute_result"
    }
   ],
   "source": [
    "with open('../input/04-input.txt', 'r') as f:\n",
    "    drawings = [int(x) for x in f.readline().rstrip().split(',')]\n",
    "    f.readline() #removing blank\n",
    "    boards = []\n",
    "    tempboard = []\n",
    "    for line in f:\n",
    "        if line == \"\\n\":\n",
    "            boards.append(np.array(tempboard))\n",
    "            tempboard = []\n",
    "        else:\n",
    "            tempboard.append([int(x) for x in line.split()])\n",
    "print(boards[0])\n",
    "drawings[0:8]"
   ]
  },
  {
   "cell_type": "code",
   "execution_count": 88,
   "id": "pending-joseph",
   "metadata": {},
   "outputs": [],
   "source": [
    "def find_board_win(test_board, drawings):\n",
    "    marked = np.zeros(shape=(5,5))\n",
    "    i = 0\n",
    "    while 5 not in np.append(marked.sum(axis=0), marked.sum(axis=1)):\n",
    "        mark_here = np.where(test_board == drawings[i])\n",
    "        if test_board[mark_here].size != 0:\n",
    "            marked[mark_here] = 1\n",
    "        i += 1\n",
    "    remain_sum = test_board[np.where(marked == 0)].sum()\n",
    "    score = remain_sum * drawings[i-1]\n",
    "    return i-1, score"
   ]
  },
  {
   "cell_type": "code",
   "execution_count": 89,
   "id": "recovered-tunisia",
   "metadata": {},
   "outputs": [
    {
     "name": "stdout",
     "output_type": "stream",
     "text": [
      "board [[14 21 17 24  4]\n",
      " [10 16 15  9 19]\n",
      " [18  8 23 26 20]\n",
      " [22 11 13  6  5]\n",
      " [ 2  0 12  3  7]]\n",
      "drawing [7, 4, 9, 5, 11, 17, 23, 2, 0, 14, 21, 24]\n"
     ]
    },
    {
     "data": {
      "text/plain": [
       "(11, 4512)"
      ]
     },
     "execution_count": 89,
     "metadata": {},
     "output_type": "execute_result"
    }
   ],
   "source": [
    "# testing block\n",
    "test_board = np.array([[14, 21, 17, 24, 4],[10, 16, 15, 9, 19],[18, 8, 23, 26, 20],[22, 11, 13, 6, 5,],[2, 0, 12, 3, 7]])\n",
    "print('board', test_board)\n",
    "test_drawing = [int(x) for x in \"7,4,9,5,11,17,23,2,0,14,21,24,10,16,13,6,15,25,12,22,18,20,8,19,3,26,1\".split(',')]\n",
    "print('drawing', test_drawing[0:12])\n",
    "find_board_win(test_board, test_drawing)"
   ]
  },
  {
   "cell_type": "code",
   "execution_count": 90,
   "id": "sonic-roberts",
   "metadata": {},
   "outputs": [
    {
     "data": {
      "text/plain": [
       "[(49, 40470), (61, 19380), (53, 29696), (51, 14469), (54, 22724)]"
      ]
     },
     "execution_count": 90,
     "metadata": {},
     "output_type": "execute_result"
    }
   ],
   "source": [
    "wins = [find_board_win(board, drawings) for board in boards]\n",
    "wins[0:5]"
   ]
  },
  {
   "cell_type": "code",
   "execution_count": 93,
   "id": "radio-residence",
   "metadata": {},
   "outputs": [
    {
     "data": {
      "text/plain": [
       "63424"
      ]
     },
     "execution_count": 93,
     "metadata": {},
     "output_type": "execute_result"
    }
   ],
   "source": [
    "min_index = 100000\n",
    "for board in boards:\n",
    "    win_index, win_score = find_board_win(board, drawings)\n",
    "    if win_index < min_index:\n",
    "        min_index = win_index\n",
    "        min_score = win_score\n",
    "    "
   ]
  },
  {
   "cell_type": "code",
   "execution_count": 94,
   "id": "appreciated-minority",
   "metadata": {},
   "outputs": [
    {
     "data": {
      "text/plain": [
       "63424"
      ]
     },
     "execution_count": 94,
     "metadata": {},
     "output_type": "execute_result"
    }
   ],
   "source": [
    "# answer\n",
    "min_score  "
   ]
  },
  {
   "cell_type": "code",
   "execution_count": 96,
   "id": "comparative-float",
   "metadata": {},
   "outputs": [
    {
     "data": {
      "text/plain": [
       "23541"
      ]
     },
     "execution_count": 96,
     "metadata": {},
     "output_type": "execute_result"
    }
   ],
   "source": [
    "# Part 2\n",
    "max_index = 0\n",
    "for board in boards:\n",
    "    win_index, win_score = find_board_win(board, drawings)\n",
    "    if win_index > max_index:\n",
    "        max_index = win_index\n",
    "        max_score = win_score\n",
    "# answer\n",
    "max_score"
   ]
  },
  {
   "cell_type": "code",
   "execution_count": null,
   "id": "residential-gauge",
   "metadata": {},
   "outputs": [],
   "source": []
  }
 ],
 "metadata": {
  "kernelspec": {
   "display_name": "Python 3",
   "language": "python",
   "name": "python3"
  },
  "language_info": {
   "codemirror_mode": {
    "name": "ipython",
    "version": 3
   },
   "file_extension": ".py",
   "mimetype": "text/x-python",
   "name": "python",
   "nbconvert_exporter": "python",
   "pygments_lexer": "ipython3",
   "version": "3.8.8"
  }
 },
 "nbformat": 4,
 "nbformat_minor": 5
}
