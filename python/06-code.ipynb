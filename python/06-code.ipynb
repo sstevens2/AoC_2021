{
 "cells": [
  {
   "cell_type": "code",
   "execution_count": 1,
   "metadata": {},
   "outputs": [],
   "source": [
    "# Sarah Stevens\n",
    "# Advent of Code 2021\n",
    "# Day 6"
   ]
  },
  {
   "cell_type": "code",
   "execution_count": 2,
   "metadata": {},
   "outputs": [],
   "source": [
    "import numpy as np\n",
    "import time\n",
    "import collections"
   ]
  },
  {
   "cell_type": "code",
   "execution_count": 3,
   "metadata": {},
   "outputs": [
    {
     "data": {
      "text/plain": [
       "[3, 5, 1, 5, 3]"
      ]
     },
     "execution_count": 3,
     "metadata": {},
     "output_type": "execute_result"
    }
   ],
   "source": [
    "with open('../input/06-input.txt', 'r') as f:\n",
    "    observed = [int(obs) for obs in f.read().rstrip().split(',')]\n",
    "observed[0:5]"
   ]
  },
  {
   "cell_type": "code",
   "execution_count": 4,
   "metadata": {},
   "outputs": [],
   "source": [
    "def new_day(fishlist):\n",
    "    new_fishlist = []\n",
    "    for fish in fishlist:\n",
    "        if fish != 0:\n",
    "            new_fishlist.append(fish - 1)\n",
    "        else:\n",
    "            new_fishlist.append(6)\n",
    "            new_fishlist.append(8)\n",
    "    return new_fishlist"
   ]
  },
  {
   "cell_type": "code",
   "execution_count": 5,
   "metadata": {},
   "outputs": [
    {
     "name": "stdout",
     "output_type": "stream",
     "text": [
      "26\n"
     ]
    }
   ],
   "source": [
    "# testblock\n",
    "test_fish = [3,4,3,1,2]\n",
    "for test_day in range(1, 19):\n",
    "    test_fish = new_day(test_fish)\n",
    "    #print(test_day, len(test_fish), Counter(test_fish))\n",
    "print(len(test_fish))"
   ]
  },
  {
   "cell_type": "code",
   "execution_count": 6,
   "metadata": {},
   "outputs": [
    {
     "name": "stdout",
     "output_type": "stream",
     "text": [
      "351188\n"
     ]
    }
   ],
   "source": [
    "day80 = observed.copy()\n",
    "for day in range(1, 81):\n",
    "    day80 = new_day(day80)\n",
    "print(len(day80)) #answer 1"
   ]
  },
  {
   "cell_type": "code",
   "execution_count": 7,
   "metadata": {},
   "outputs": [],
   "source": [
    "# Part 2\n",
    "# attempted np solution but it is only slightly faster (see timing for 80 days below)\n",
    "def new_day2(fishlist):\n",
    "    new_fishlist = fishlist.copy()\n",
    "    new_fishlist = new_fishlist[np.where(new_fishlist > 0 )] - 1 \n",
    "    mom_fish = new_fishlist[np.where(new_fishlist == 0)]\n",
    "    new_fishlist = np.append(new_fishlist, np.full_like(mom_fish, 6))\n",
    "    new_fishlist = np.append(new_fishlist, np.full_like(mom_fish, 8))\n",
    "    return new_fishlist\n",
    "\n",
    "# Part 2\n",
    "# considerably faster with dictionary counts instead (see timing for 80 days below)\n",
    "def new_day3(fishcounts):\n",
    "    fishcounts = collections.OrderedDict(sorted(fishcounts.items()))\n",
    "    new_count = {}\n",
    "    for stage, count in fishcounts.items():\n",
    "        if stage == 0:\n",
    "            new_count[6] = count\n",
    "            new_count[8] = count\n",
    "        elif stage == 7:\n",
    "            if 6 in new_count.keys():\n",
    "                zeros = new_count[6]\n",
    "                new_count[6] = zeros + count\n",
    "            else:\n",
    "                new_count[6] = count\n",
    "        else:\n",
    "            new_stage = stage - 1\n",
    "            new_count[new_stage] = count\n",
    "    return new_count"
   ]
  },
  {
   "cell_type": "code",
   "execution_count": 9,
   "metadata": {},
   "outputs": [
    {
     "data": {
      "text/plain": [
       "26"
      ]
     },
     "execution_count": 9,
     "metadata": {},
     "output_type": "execute_result"
    }
   ],
   "source": [
    "# test block for new_day3\n",
    "test_fish = [3,4,3,1,2]\n",
    "counts = collections.Counter(test_fish)\n",
    "#print(counts)\n",
    "for test_day in range(1, 19):\n",
    "    counts = new_day3(counts)\n",
    "    #print(test_day, sum(counts.values()), counts)\n",
    "sum(counts.values())"
   ]
  },
  {
   "cell_type": "code",
   "execution_count": 12,
   "metadata": {},
   "outputs": [
    {
     "name": "stdout",
     "output_type": "stream",
     "text": [
      "351188\n",
      "Time elapsed: 0.2744481563568115\n"
     ]
    }
   ],
   "source": [
    "start = time.time()\n",
    "day80 = observed.copy()\n",
    "for day in range(1, 81):\n",
    "    day80 = new_day(day80)\n",
    "end = time.time()\n",
    "print(len(day80)) #answer 1\n",
    "print (\"Time elapsed:\", end - start)"
   ]
  },
  {
   "cell_type": "code",
   "execution_count": 10,
   "metadata": {},
   "outputs": [
    {
     "name": "stdout",
     "output_type": "stream",
     "text": [
      "1075935\n",
      "Time elapsed: 0.20283913612365723\n"
     ]
    }
   ],
   "source": [
    "start = time.time()\n",
    "day80 = np.array(observed.copy())\n",
    "for day in range(1, 81):\n",
    "    day80 = new_day2(day80)\n",
    "print(len(day80)) #answer 1 - not right! something wrong with new_day2\n",
    "end = time.time()\n",
    "print (\"Time elapsed:\", end - start)"
   ]
  },
  {
   "cell_type": "code",
   "execution_count": 11,
   "metadata": {},
   "outputs": [
    {
     "name": "stdout",
     "output_type": "stream",
     "text": [
      "351188\n",
      "Time elapsed: 0.0011889934539794922\n"
     ]
    }
   ],
   "source": [
    "start = time.time()\n",
    "day80 = collections.Counter(observed)\n",
    "for day in range(1, 81):\n",
    "    day80 = new_day3(day80)\n",
    "print(sum(day80.values())) #answer 1\n",
    "end = time.time()\n",
    "print (\"Time elapsed:\", end - start)"
   ]
  },
  {
   "cell_type": "code",
   "execution_count": 12,
   "metadata": {},
   "outputs": [
    {
     "name": "stdout",
     "output_type": "stream",
     "text": [
      "1595779846729\n"
     ]
    }
   ],
   "source": [
    "# Part 2 \n",
    "day256 = collections.Counter(observed)\n",
    "for day in range(1, 257):\n",
    "    day256 = new_day3(day256)\n",
    "    #print(day, sum(day256.values()))\n",
    "print(sum(day256.values())) #answer 2"
   ]
  },
  {
   "cell_type": "code",
   "execution_count": null,
   "metadata": {},
   "outputs": [],
   "source": []
  },
  {
   "cell_type": "code",
   "execution_count": null,
   "metadata": {},
   "outputs": [],
   "source": []
  }
 ],
 "metadata": {
  "kernelspec": {
   "display_name": "Python 3",
   "language": "python",
   "name": "python3"
  },
  "language_info": {
   "codemirror_mode": {
    "name": "ipython",
    "version": 3
   },
   "file_extension": ".py",
   "mimetype": "text/x-python",
   "name": "python",
   "nbconvert_exporter": "python",
   "pygments_lexer": "ipython3",
   "version": "3.8.8"
  }
 },
 "nbformat": 4,
 "nbformat_minor": 4
}
