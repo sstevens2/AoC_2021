{
 "cells": [
  {
   "cell_type": "code",
   "execution_count": 4,
   "id": "surrounded-addition",
   "metadata": {},
   "outputs": [],
   "source": []
  },
  {
   "cell_type": "code",
   "execution_count": 66,
   "id": "banned-compound",
   "metadata": {},
   "outputs": [],
   "source": [
    "with open(\"../input/03-input.txt\",'r') as f:\n",
    "    report = [x.rstrip() for x in f.readlines()]"
   ]
  },
  {
   "cell_type": "code",
   "execution_count": 67,
   "id": "combined-background",
   "metadata": {},
   "outputs": [
    {
     "data": {
      "text/plain": [
       "['011111111101',\n",
       " '011000010111',\n",
       " '000000000101',\n",
       " '000111100001',\n",
       " '011011010000']"
      ]
     },
     "execution_count": 67,
     "metadata": {},
     "output_type": "execute_result"
    }
   ],
   "source": [
    "report[0:5]"
   ]
  },
  {
   "cell_type": "code",
   "execution_count": 68,
   "id": "peripheral-tissue",
   "metadata": {},
   "outputs": [
    {
     "data": {
      "text/plain": [
       "([492, 511, 507, 521, 488, 502, 510, 528, 512, 509, 492, 488],\n",
       " [508, 489, 493, 479, 512, 498, 490, 472, 488, 491, 508, 512])"
      ]
     },
     "execution_count": 68,
     "metadata": {},
     "output_type": "execute_result"
    }
   ],
   "source": [
    "one_counts = [0] * len(report[0])\n",
    "zero_counts = [0] * len(report[0])\n",
    "for reading in report:\n",
    "    for i, digit in enumerate(reading):\n",
    "        if digit == '1':\n",
    "            one_counts[i] += 1\n",
    "        elif digit == '0':\n",
    "            zero_counts[i] += 1\n",
    "        else:\n",
    "            print(\"Not valid digit\", digit)\n",
    "            exit()\n",
    "one_counts, zero_counts"
   ]
  },
  {
   "cell_type": "code",
   "execution_count": 69,
   "id": "acknowledged-mentor",
   "metadata": {},
   "outputs": [
    {
     "data": {
      "text/plain": [
       "('011101111100', '100010000011')"
      ]
     },
     "execution_count": 69,
     "metadata": {},
     "output_type": "execute_result"
    }
   ],
   "source": [
    "gamma = ''\n",
    "epsilon = ''\n",
    "for i, o_count in enumerate(one_counts):\n",
    "    if o_count > zero_counts[i]:\n",
    "        gamma = gamma + '1'\n",
    "        epsilon = epsilon + '0'\n",
    "    elif o_count < zero_counts[i]:\n",
    "        gamma = gamma + '0'\n",
    "        epsilon = epsilon + '1'\n",
    "    else:\n",
    "        print('digits equal')\n",
    "        exit()\n",
    "gamma, epsilon"
   ]
  },
  {
   "cell_type": "code",
   "execution_count": 70,
   "id": "sensitive-webster",
   "metadata": {},
   "outputs": [
    {
     "data": {
      "text/plain": [
       "4174964"
      ]
     },
     "execution_count": 70,
     "metadata": {},
     "output_type": "execute_result"
    }
   ],
   "source": [
    "# answer\n",
    "int(gamma, 2) * int(epsilon, 2)"
   ]
  },
  {
   "cell_type": "code",
   "execution_count": 71,
   "id": "italian-slovak",
   "metadata": {},
   "outputs": [],
   "source": [
    "# Part 2"
   ]
  },
  {
   "cell_type": "code",
   "execution_count": 81,
   "id": "taken-project",
   "metadata": {},
   "outputs": [],
   "source": [
    "def calc_bits(values, posit):\n",
    "    one = 0\n",
    "    zero = 0\n",
    "    for reading in values:\n",
    "        if reading[posit] == '0':\n",
    "            zero += 1\n",
    "        elif reading[posit] == '1':\n",
    "            one += 1\n",
    "        else:\n",
    "            print('reading not binary', reading[pos])\n",
    "    return [zero, one]\n",
    "\n",
    "def most_common_bit(readings, pos):\n",
    "    zero, one = calc_bits(readings, pos)\n",
    "    if one >= zero:\n",
    "        return '1'\n",
    "    return '0'\n",
    "\n",
    "def least_common_bit(readings, pos):\n",
    "    zero, one = calc_bits(readings, pos)\n",
    "    if one >= zero:\n",
    "        return '0'\n",
    "    return '1'\n",
    "\n",
    "def filter_readings(readings, pos, keep_bit):\n",
    "    filt_readings = []\n",
    "    for reading in readings:\n",
    "        if reading[pos] == keep_bit:\n",
    "            filt_readings.append(reading)\n",
    "    return filt_readings"
   ]
  },
  {
   "cell_type": "code",
   "execution_count": 89,
   "id": "commercial-andorra",
   "metadata": {},
   "outputs": [
    {
     "name": "stdout",
     "output_type": "stream",
     "text": [
      "['10111'] 23\n",
      "['01010'] 10\n"
     ]
    }
   ],
   "source": [
    "# testing block\n",
    "with open(\"../input/03-test.txt\",'r') as f:\n",
    "    testing = [x.rstrip() for x in f.readlines()]\n",
    "\n",
    "ox_gen_test = testing.copy()\n",
    "position = 0\n",
    "while len(ox_gen_test) != 1:\n",
    "    #print(len(ox_gen))\n",
    "    keeping_bit = most_common_bit(ox_gen_test, position)\n",
    "    ox_gen_test = filter_readings(ox_gen_test, position, keeping_bit)\n",
    "    position += 1\n",
    "print(ox_gen_test, int(ox_gen_test[0], 2))\n",
    "\n",
    "co2_rat_test = testing.copy()\n",
    "position = 0\n",
    "while len(co2_rat_test) != 1:\n",
    "    #print(len(co2_rat))\n",
    "    keeping_bit = least_common_bit(co2_rat_test, position)\n",
    "    co2_rat_test = filter_readings(co2_rat_test, position, keeping_bit)\n",
    "    position += 1\n",
    "print(co2_rat_test, int(co2_rat_test[0], 2)) \n"
   ]
  },
  {
   "cell_type": "code",
   "execution_count": 86,
   "id": "worthy-server",
   "metadata": {},
   "outputs": [
    {
     "data": {
      "text/plain": [
       "range(0, 5)"
      ]
     },
     "execution_count": 86,
     "metadata": {},
     "output_type": "execute_result"
    }
   ],
   "source": [
    "co2_rat_test = testing.copy()\n",
    "co2_rat_test\n",
    "range(len(co2_rat_test[0]))"
   ]
  },
  {
   "cell_type": "code",
   "execution_count": 90,
   "id": "computational-liabilities",
   "metadata": {},
   "outputs": [
    {
     "data": {
      "text/plain": [
       "['010101011011']"
      ]
     },
     "execution_count": 90,
     "metadata": {},
     "output_type": "execute_result"
    }
   ],
   "source": [
    "ox_gen = report.copy()\n",
    "position = 0\n",
    "while len(ox_gen) != 1:\n",
    "    #print(len(ox_gen))\n",
    "    keeping_bit = most_common_bit(ox_gen, position)\n",
    "    ox_gen = filter_readings(ox_gen, position, keeping_bit)\n",
    "    position += 1\n",
    "ox_gen"
   ]
  },
  {
   "cell_type": "code",
   "execution_count": 91,
   "id": "aquatic-eagle",
   "metadata": {},
   "outputs": [
    {
     "data": {
      "text/plain": [
       "['110011000000']"
      ]
     },
     "execution_count": 91,
     "metadata": {},
     "output_type": "execute_result"
    }
   ],
   "source": [
    "co2_rat = report.copy()\n",
    "position = 0\n",
    "while len(co2_rat) != 1:\n",
    "    #print(len(co2_rat))\n",
    "    keeping_bit = least_common_bit(co2_rat, position)\n",
    "    co2_rat = filter_readings(co2_rat, position, keeping_bit)\n",
    "    position += 1\n",
    "co2_rat"
   ]
  },
  {
   "cell_type": "code",
   "execution_count": 92,
   "id": "standard-patrick",
   "metadata": {},
   "outputs": [
    {
     "data": {
      "text/plain": [
       "4474944"
      ]
     },
     "execution_count": 92,
     "metadata": {},
     "output_type": "execute_result"
    }
   ],
   "source": [
    "# answer\n",
    "int(ox_gen[0], 2) * int(co2_rat[0], 2)"
   ]
  },
  {
   "cell_type": "code",
   "execution_count": null,
   "id": "intensive-worst",
   "metadata": {},
   "outputs": [],
   "source": []
  }
 ],
 "metadata": {
  "kernelspec": {
   "display_name": "Python 3",
   "language": "python",
   "name": "python3"
  },
  "language_info": {
   "codemirror_mode": {
    "name": "ipython",
    "version": 3
   },
   "file_extension": ".py",
   "mimetype": "text/x-python",
   "name": "python",
   "nbconvert_exporter": "python",
   "pygments_lexer": "ipython3",
   "version": "3.8.8"
  }
 },
 "nbformat": 4,
 "nbformat_minor": 5
}
